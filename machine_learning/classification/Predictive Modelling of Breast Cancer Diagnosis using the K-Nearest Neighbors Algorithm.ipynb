{
 "cells": [
  {
   "cell_type": "markdown",
   "id": "b23a55e8-589f-4b0e-8301-0bacce4c94e4",
   "metadata": {},
   "source": [
    "# Predictive Modelling of Breast Cancer Diagnosis using K-Nearest Neighbors Algorithm\n",
    "\n",
    "In this classification project we will be using the K-Nearest Neighbors (KNN) algorithm on the Breast Cancer Wisconsin (Diagnostic) dataset which can be found at [Breast Cancer Wisconsin (Diagnostic)](https://archive.ics.uci.edu/dataset/17/breast+cancer+wisconsin+diagnostic). The dataset contains 30 features which are extracted from a digitized image representing a fine needle aspirate (FNA) procedure conducted on a breast mass. \n",
    "\n",
    "Our task is to develop a predictive model that can accurately classify tumors as either benign or malignant given a set of features. The targets are binary values labeled either M = Malignant or B = Benign. Next, we import necessary libraries as well as the dataset. Note that the dataset has already been split into feature and target dataframes. The features for this dataset are summarised below:"
   ]
  },
  {
   "cell_type": "markdown",
   "id": "f30db8d6-a507-4977-bc97-380881d31bc1",
   "metadata": {},
   "source": [
    "| Variable Name       | Role    | Type       | Description | Units | Missing Values |\n",
    "|---------------------|---------|------------|-------------|-------|----------------|\n",
    "| ID                  | ID      | Categorical|             |       | no             |\n",
    "| Diagnosis           | Target  | Categorical|             |       | no             |\n",
    "| radius1             | Feature | Continuous |             |       | no             |\n",
    "| texture1            | Feature | Continuous |             |       | no             |\n",
    "| perimeter1          | Feature | Continuous |             |       | no             |\n",
    "| area1               | Feature | Continuous |             |       | no             |\n",
    "| smoothness1         | Feature | Continuous |             |       | no             |\n",
    "| compactness1        | Feature | Continuous |             |       | no             |\n",
    "| concavity1          | Feature | Continuous |             |       | no             |\n",
    "| concave_points1     | Feature | Continuous |             |       | no             |\n",
    "| symmetry1           | Feature | Continuous |             |       | no             |\n",
    "| fractal_dimension1  | Feature | Continuous |             |       | no             |\n",
    "| radius2             | Feature | Continuous |             |       | no             |\n",
    "| texture2            | Feature | Continuous |             |       | no             |\n",
    "| perimeter2          | Feature | Continuous |             |       | no             |\n",
    "| area2               | Feature | Continuous |             |       | no             |\n",
    "| smoothness2         | Feature | Continuous |             |       | no             |\n",
    "| compactness2        | Feature | Continuous |             |       | no             |\n",
    "| concavity2          | Feature | Continuous |             |       | no             |\n",
    "| concave_points2     | Feature | Continuous |             |       | no             |\n",
    "| symmetry2           | Feature | Continuous |             |       | no             |\n",
    "| fractal_dimension2  | Feature | Continuous |             |       | no             |\n",
    "| radius3             | Feature | Continuous |             |       | no             |\n",
    "| texture3            | Feature | Continuous |             |       | no             |\n",
    "| perimeter3          | Feature | Continuous |             |       | no             |\n",
    "| area3               | Feature | Continuous |             |       | no             |\n",
    "| smoothness3         | Feature | Continuous |             |       | no             |\n",
    "| compactness3        | Feature | Continuous |             |       | no             |\n",
    "| concavity3          | Feature | Continuous |             |       | no             |\n",
    "| concave_points3     | Feature | Continuous |             |       | no             |\n",
    "| symmetry3           | Feature | Continuous |             |       | no             |\n",
    "| fractal_dimension3  | Feature | Continuous |             |       | no             |"
   ]
  },
  {
   "cell_type": "code",
   "execution_count": 66,
   "id": "c834a31f-dbdf-422d-94a6-05772c94f3e6",
   "metadata": {},
   "outputs": [],
   "source": [
    "# import necessary libraries\n",
    "import pandas as pd\n",
    "import matplotlib.pyplot as plt\n",
    "from sklearn.preprocessing import StandardScaler\n",
    "from sklearn.model_selection import train_test_split\n",
    "from sklearn.neighbors import KNeighborsClassifier\n",
    "from sklearn.metrics import confusion_matrix\n",
    "from sklearn.metrics import classification_report\n",
    "from sklearn.preprocessing import MinMaxScaler\n",
    "from sklearn.metrics import accuracy_score\n",
    "from sklearn.decomposition import PCA\n",
    "import warnings\n",
    "import numpy as np\n",
    "from sklearn.model_selection import validation_curve\n",
    "warnings.filterwarnings('ignore') "
   ]
  },
  {
   "cell_type": "code",
   "execution_count": 67,
   "id": "57a41910-7113-40ee-93c6-6a22d427c958",
   "metadata": {},
   "outputs": [],
   "source": [
    "from ucimlrepo import fetch_ucirepo \n",
    "  \n",
    "# fetch dataset \n",
    "breast_cancer_wisconsin_diagnostic = fetch_ucirepo(id=17) \n",
    "  \n",
    "# data (as pandas dataframes) \n",
    "X = breast_cancer_wisconsin_diagnostic.data.features \n",
    "y = breast_cancer_wisconsin_diagnostic.data.targets "
   ]
  },
  {
   "cell_type": "markdown",
   "id": "280be005-6b1c-45ae-a84b-02a3a9abbe27",
   "metadata": {},
   "source": [
    "Now let's display the first five entries of both features and targets to get a better idea of the data."
   ]
  },
  {
   "cell_type": "code",
   "execution_count": 68,
   "id": "626da71f-1f48-4d97-9b64-54273b46fb51",
   "metadata": {},
   "outputs": [
    {
     "data": {
      "text/html": [
       "<div>\n",
       "<style scoped>\n",
       "    .dataframe tbody tr th:only-of-type {\n",
       "        vertical-align: middle;\n",
       "    }\n",
       "\n",
       "    .dataframe tbody tr th {\n",
       "        vertical-align: top;\n",
       "    }\n",
       "\n",
       "    .dataframe thead th {\n",
       "        text-align: right;\n",
       "    }\n",
       "</style>\n",
       "<table border=\"1\" class=\"dataframe\">\n",
       "  <thead>\n",
       "    <tr style=\"text-align: right;\">\n",
       "      <th></th>\n",
       "      <th>radius1</th>\n",
       "      <th>texture1</th>\n",
       "      <th>perimeter1</th>\n",
       "      <th>area1</th>\n",
       "      <th>smoothness1</th>\n",
       "      <th>compactness1</th>\n",
       "      <th>concavity1</th>\n",
       "      <th>concave_points1</th>\n",
       "      <th>symmetry1</th>\n",
       "      <th>fractal_dimension1</th>\n",
       "      <th>...</th>\n",
       "      <th>radius3</th>\n",
       "      <th>texture3</th>\n",
       "      <th>perimeter3</th>\n",
       "      <th>area3</th>\n",
       "      <th>smoothness3</th>\n",
       "      <th>compactness3</th>\n",
       "      <th>concavity3</th>\n",
       "      <th>concave_points3</th>\n",
       "      <th>symmetry3</th>\n",
       "      <th>fractal_dimension3</th>\n",
       "    </tr>\n",
       "  </thead>\n",
       "  <tbody>\n",
       "    <tr>\n",
       "      <th>0</th>\n",
       "      <td>17.99</td>\n",
       "      <td>10.38</td>\n",
       "      <td>122.80</td>\n",
       "      <td>1001.0</td>\n",
       "      <td>0.11840</td>\n",
       "      <td>0.27760</td>\n",
       "      <td>0.3001</td>\n",
       "      <td>0.14710</td>\n",
       "      <td>0.2419</td>\n",
       "      <td>0.07871</td>\n",
       "      <td>...</td>\n",
       "      <td>25.38</td>\n",
       "      <td>17.33</td>\n",
       "      <td>184.60</td>\n",
       "      <td>2019.0</td>\n",
       "      <td>0.1622</td>\n",
       "      <td>0.6656</td>\n",
       "      <td>0.7119</td>\n",
       "      <td>0.2654</td>\n",
       "      <td>0.4601</td>\n",
       "      <td>0.11890</td>\n",
       "    </tr>\n",
       "    <tr>\n",
       "      <th>1</th>\n",
       "      <td>20.57</td>\n",
       "      <td>17.77</td>\n",
       "      <td>132.90</td>\n",
       "      <td>1326.0</td>\n",
       "      <td>0.08474</td>\n",
       "      <td>0.07864</td>\n",
       "      <td>0.0869</td>\n",
       "      <td>0.07017</td>\n",
       "      <td>0.1812</td>\n",
       "      <td>0.05667</td>\n",
       "      <td>...</td>\n",
       "      <td>24.99</td>\n",
       "      <td>23.41</td>\n",
       "      <td>158.80</td>\n",
       "      <td>1956.0</td>\n",
       "      <td>0.1238</td>\n",
       "      <td>0.1866</td>\n",
       "      <td>0.2416</td>\n",
       "      <td>0.1860</td>\n",
       "      <td>0.2750</td>\n",
       "      <td>0.08902</td>\n",
       "    </tr>\n",
       "    <tr>\n",
       "      <th>2</th>\n",
       "      <td>19.69</td>\n",
       "      <td>21.25</td>\n",
       "      <td>130.00</td>\n",
       "      <td>1203.0</td>\n",
       "      <td>0.10960</td>\n",
       "      <td>0.15990</td>\n",
       "      <td>0.1974</td>\n",
       "      <td>0.12790</td>\n",
       "      <td>0.2069</td>\n",
       "      <td>0.05999</td>\n",
       "      <td>...</td>\n",
       "      <td>23.57</td>\n",
       "      <td>25.53</td>\n",
       "      <td>152.50</td>\n",
       "      <td>1709.0</td>\n",
       "      <td>0.1444</td>\n",
       "      <td>0.4245</td>\n",
       "      <td>0.4504</td>\n",
       "      <td>0.2430</td>\n",
       "      <td>0.3613</td>\n",
       "      <td>0.08758</td>\n",
       "    </tr>\n",
       "    <tr>\n",
       "      <th>3</th>\n",
       "      <td>11.42</td>\n",
       "      <td>20.38</td>\n",
       "      <td>77.58</td>\n",
       "      <td>386.1</td>\n",
       "      <td>0.14250</td>\n",
       "      <td>0.28390</td>\n",
       "      <td>0.2414</td>\n",
       "      <td>0.10520</td>\n",
       "      <td>0.2597</td>\n",
       "      <td>0.09744</td>\n",
       "      <td>...</td>\n",
       "      <td>14.91</td>\n",
       "      <td>26.50</td>\n",
       "      <td>98.87</td>\n",
       "      <td>567.7</td>\n",
       "      <td>0.2098</td>\n",
       "      <td>0.8663</td>\n",
       "      <td>0.6869</td>\n",
       "      <td>0.2575</td>\n",
       "      <td>0.6638</td>\n",
       "      <td>0.17300</td>\n",
       "    </tr>\n",
       "    <tr>\n",
       "      <th>4</th>\n",
       "      <td>20.29</td>\n",
       "      <td>14.34</td>\n",
       "      <td>135.10</td>\n",
       "      <td>1297.0</td>\n",
       "      <td>0.10030</td>\n",
       "      <td>0.13280</td>\n",
       "      <td>0.1980</td>\n",
       "      <td>0.10430</td>\n",
       "      <td>0.1809</td>\n",
       "      <td>0.05883</td>\n",
       "      <td>...</td>\n",
       "      <td>22.54</td>\n",
       "      <td>16.67</td>\n",
       "      <td>152.20</td>\n",
       "      <td>1575.0</td>\n",
       "      <td>0.1374</td>\n",
       "      <td>0.2050</td>\n",
       "      <td>0.4000</td>\n",
       "      <td>0.1625</td>\n",
       "      <td>0.2364</td>\n",
       "      <td>0.07678</td>\n",
       "    </tr>\n",
       "  </tbody>\n",
       "</table>\n",
       "<p>5 rows × 30 columns</p>\n",
       "</div>"
      ],
      "text/plain": [
       "   radius1  texture1  perimeter1   area1  smoothness1  compactness1  \\\n",
       "0    17.99     10.38      122.80  1001.0      0.11840       0.27760   \n",
       "1    20.57     17.77      132.90  1326.0      0.08474       0.07864   \n",
       "2    19.69     21.25      130.00  1203.0      0.10960       0.15990   \n",
       "3    11.42     20.38       77.58   386.1      0.14250       0.28390   \n",
       "4    20.29     14.34      135.10  1297.0      0.10030       0.13280   \n",
       "\n",
       "   concavity1  concave_points1  symmetry1  fractal_dimension1  ...  radius3  \\\n",
       "0      0.3001          0.14710     0.2419             0.07871  ...    25.38   \n",
       "1      0.0869          0.07017     0.1812             0.05667  ...    24.99   \n",
       "2      0.1974          0.12790     0.2069             0.05999  ...    23.57   \n",
       "3      0.2414          0.10520     0.2597             0.09744  ...    14.91   \n",
       "4      0.1980          0.10430     0.1809             0.05883  ...    22.54   \n",
       "\n",
       "   texture3  perimeter3   area3  smoothness3  compactness3  concavity3  \\\n",
       "0     17.33      184.60  2019.0       0.1622        0.6656      0.7119   \n",
       "1     23.41      158.80  1956.0       0.1238        0.1866      0.2416   \n",
       "2     25.53      152.50  1709.0       0.1444        0.4245      0.4504   \n",
       "3     26.50       98.87   567.7       0.2098        0.8663      0.6869   \n",
       "4     16.67      152.20  1575.0       0.1374        0.2050      0.4000   \n",
       "\n",
       "   concave_points3  symmetry3  fractal_dimension3  \n",
       "0           0.2654     0.4601             0.11890  \n",
       "1           0.1860     0.2750             0.08902  \n",
       "2           0.2430     0.3613             0.08758  \n",
       "3           0.2575     0.6638             0.17300  \n",
       "4           0.1625     0.2364             0.07678  \n",
       "\n",
       "[5 rows x 30 columns]"
      ]
     },
     "metadata": {},
     "output_type": "display_data"
    },
    {
     "data": {
      "text/html": [
       "<div>\n",
       "<style scoped>\n",
       "    .dataframe tbody tr th:only-of-type {\n",
       "        vertical-align: middle;\n",
       "    }\n",
       "\n",
       "    .dataframe tbody tr th {\n",
       "        vertical-align: top;\n",
       "    }\n",
       "\n",
       "    .dataframe thead th {\n",
       "        text-align: right;\n",
       "    }\n",
       "</style>\n",
       "<table border=\"1\" class=\"dataframe\">\n",
       "  <thead>\n",
       "    <tr style=\"text-align: right;\">\n",
       "      <th></th>\n",
       "      <th>Diagnosis</th>\n",
       "    </tr>\n",
       "  </thead>\n",
       "  <tbody>\n",
       "    <tr>\n",
       "      <th>0</th>\n",
       "      <td>M</td>\n",
       "    </tr>\n",
       "    <tr>\n",
       "      <th>1</th>\n",
       "      <td>M</td>\n",
       "    </tr>\n",
       "    <tr>\n",
       "      <th>2</th>\n",
       "      <td>M</td>\n",
       "    </tr>\n",
       "    <tr>\n",
       "      <th>3</th>\n",
       "      <td>M</td>\n",
       "    </tr>\n",
       "    <tr>\n",
       "      <th>4</th>\n",
       "      <td>M</td>\n",
       "    </tr>\n",
       "  </tbody>\n",
       "</table>\n",
       "</div>"
      ],
      "text/plain": [
       "  Diagnosis\n",
       "0         M\n",
       "1         M\n",
       "2         M\n",
       "3         M\n",
       "4         M"
      ]
     },
     "metadata": {},
     "output_type": "display_data"
    },
    {
     "data": {
      "text/plain": [
       "(None, None)"
      ]
     },
     "execution_count": 68,
     "metadata": {},
     "output_type": "execute_result"
    }
   ],
   "source": [
    "display(X.head()), display(y.head())"
   ]
  },
  {
   "cell_type": "markdown",
   "id": "e97d7673-6c4d-43a6-b4d4-23d5e13600cb",
   "metadata": {},
   "source": [
    "|   | radius1 | texture1 | perimeter1 | area1 | smoothness1 | compactness1 | concavity1 | concave_points1 | symmetry1 | fractal_dimension1 | ... | radius3 | texture3 | perimeter3 | area3 | smoothness3 | compactness3 | concavity3 | concave_points3 | symmetry3 | fractal_dimension3 |\n",
    "|---|---------|----------|------------|-------|-------------|--------------|------------|-----------------|-----------|--------------------|-----|---------|----------|------------|-------|-------------|--------------|------------|-----------------|-----------|--------------------|\n",
    "| 0 | 17.99   | 10.38    | 122.80     | 1001.0| 0.11840     | 0.27760      | 0.3001     | 0.14710         | 0.2419    | 0.07871            | ... | 25.38   | 17.33    | 184.60     | 2019.0| 0.1622      | 0.6656       | 0.7119     | 0.2654          | 0.4601    | 0.11890            |\n",
    "| 1 | 20.57   | 17.77    | 132.90     | 1326.0| 0.08474     | 0.07864      | 0.0869     | 0.07017         | 0.1812    | 0.05667            | ... | 24.99   | 23.41    | 158.80     | 1956.0| 0.1238      | 0.1866       | 0.2416     | 0.1860          | 0.2750    | 0.08902            |\n",
    "| 2 | 19.69   | 21.25    | 130.00     | 1203.0| 0.10960     | 0.15990      | 0.1974     | 0.12790         | 0.2069    | 0.05999            | ... | 23.57   | 25.53    | 152.50     | 1709.0| 0.1444      | 0.4245       | 0.4504     | 0.2430          | 0.3613    | 0.08758            |\n",
    "| 3 | 11.42   | 20.38    | 77.58      | 386.1 | 0.14250     | 0.28390      | 0.2414     | 0.10520         | 0.2597    | 0.09744            | ... | 14.91   | 26.50    | 98.87      | 567.7 | 0.2098      | 0.8663       | 0.6869     | 0.2575          | 0.6638    | 0.17300            |\n",
    "| 4 | 20.29   | 14.34    | 135.10     | 1297.0| 0.10030     | 0.13280      | 0.1980     | 0.10430         | 0.1809    | 0.05883            | ... | 22.54   | 16.67    | 152.20     | 1575.0| 0.1374      | 0.2050       | 0.4000     | 0.1625          | 0.2364    | 0.07678            |"
   ]
  },
  {
   "cell_type": "markdown",
   "id": "734e90b8-bf0a-464b-9f34-4affd4958805",
   "metadata": {},
   "source": [
    "|   | Diagnosis |\n",
    "|---|-----------|\n",
    "| 0 | M         |\n",
    "| 1 | M         |\n",
    "| 2 | M         |\n",
    "| 3 | M         |\n",
    "| 4 | M         |"
   ]
  },
  {
   "cell_type": "markdown",
   "id": "1cc41164-a040-49c3-ab85-a70701bd1133",
   "metadata": {},
   "source": [
    "We can see that the feature entries are all numerical whereas the target entries are categorical. We will now start with the data preparation, and our first task would be to encode the categorical variables of the target dataframe."
   ]
  },
  {
   "cell_type": "markdown",
   "id": "64acc699-1900-45c4-84a9-55cc73ea7d1c",
   "metadata": {},
   "source": [
    "# Data Preparation"
   ]
  },
  {
   "cell_type": "markdown",
   "id": "cc5b0b9a-075b-4e3a-aa4f-6fa3055e8372",
   "metadata": {},
   "source": [
    "We start by changing the entries of the target dataframe to match the mapping M = 1 and B = 0."
   ]
  },
  {
   "cell_type": "code",
   "execution_count": 69,
   "id": "ed9078c8-ee72-4279-a25d-2c86f760bbc0",
   "metadata": {},
   "outputs": [],
   "source": [
    "# Change entries to numerical values\n",
    "y[\"Diagnosis\"] = (y[\"Diagnosis\"] == 'M').astype(int)"
   ]
  },
  {
   "cell_type": "code",
   "execution_count": 70,
   "id": "52b3e904-4374-4ccf-8b08-007d625cf7f6",
   "metadata": {},
   "outputs": [
    {
     "data": {
      "text/html": [
       "<div>\n",
       "<style scoped>\n",
       "    .dataframe tbody tr th:only-of-type {\n",
       "        vertical-align: middle;\n",
       "    }\n",
       "\n",
       "    .dataframe tbody tr th {\n",
       "        vertical-align: top;\n",
       "    }\n",
       "\n",
       "    .dataframe thead th {\n",
       "        text-align: right;\n",
       "    }\n",
       "</style>\n",
       "<table border=\"1\" class=\"dataframe\">\n",
       "  <thead>\n",
       "    <tr style=\"text-align: right;\">\n",
       "      <th></th>\n",
       "      <th>Diagnosis</th>\n",
       "    </tr>\n",
       "  </thead>\n",
       "  <tbody>\n",
       "    <tr>\n",
       "      <th>564</th>\n",
       "      <td>1</td>\n",
       "    </tr>\n",
       "    <tr>\n",
       "      <th>565</th>\n",
       "      <td>1</td>\n",
       "    </tr>\n",
       "    <tr>\n",
       "      <th>566</th>\n",
       "      <td>1</td>\n",
       "    </tr>\n",
       "    <tr>\n",
       "      <th>567</th>\n",
       "      <td>1</td>\n",
       "    </tr>\n",
       "    <tr>\n",
       "      <th>568</th>\n",
       "      <td>0</td>\n",
       "    </tr>\n",
       "  </tbody>\n",
       "</table>\n",
       "</div>"
      ],
      "text/plain": [
       "     Diagnosis\n",
       "564          1\n",
       "565          1\n",
       "566          1\n",
       "567          1\n",
       "568          0"
      ]
     },
     "execution_count": 70,
     "metadata": {},
     "output_type": "execute_result"
    }
   ],
   "source": [
    "# Print dataframe\n",
    "y.tail()"
   ]
  },
  {
   "cell_type": "markdown",
   "id": "5fa5462a-bc0c-4027-b6bc-daa21ddcc77d",
   "metadata": {},
   "source": [
    "Now the targets dataframe contains numerical values. This makes it possible to perform mathematical operations on the data.\n",
    "|   | Diagnosis |\n",
    "|---|-----------|\n",
    "| 0 | 1        |\n",
    "| 1 | 1         |\n",
    "| 2 | 1        |\n",
    "| 3 | 1         |\n",
    "| 4 | 1         |\n",
    "| ... | ...         |\n",
    "| 568 | 0         |"
   ]
  },
  {
   "cell_type": "markdown",
   "id": "9dafe562-2302-4c77-b128-f785dbdd9f79",
   "metadata": {},
   "source": [
    "Next we will use the MinMaxScaler method to normalise the input features to mitigate any biased results in the calculations performed by KNN. We do this because it is clear from the features dataframe that each feature contain different ranges, for example some values are between 0 and 1 whereas others are between 100 and 1000. The MinMax method normalises our data to fit within a range of 0 to 1."
   ]
  },
  {
   "cell_type": "code",
   "execution_count": 71,
   "id": "77644a46-67ea-46d8-ab6b-3872542adf7c",
   "metadata": {},
   "outputs": [],
   "source": [
    "# create a scaler object\n",
    "scaler = MinMaxScaler()\n",
    "X_normalised = scaler.fit_transform(X)"
   ]
  },
  {
   "cell_type": "code",
   "execution_count": 72,
   "id": "6f8cdc46-8b0a-4283-b703-efd5ff54dc78",
   "metadata": {},
   "outputs": [],
   "source": [
    "X_normalised_df = pd.DataFrame(X_normalised, columns=X.columns)"
   ]
  },
  {
   "cell_type": "code",
   "execution_count": 73,
   "id": "97ab7cba-97f6-4d9e-b583-6f4c712cbddc",
   "metadata": {},
   "outputs": [
    {
     "data": {
      "text/html": [
       "<div>\n",
       "<style scoped>\n",
       "    .dataframe tbody tr th:only-of-type {\n",
       "        vertical-align: middle;\n",
       "    }\n",
       "\n",
       "    .dataframe tbody tr th {\n",
       "        vertical-align: top;\n",
       "    }\n",
       "\n",
       "    .dataframe thead th {\n",
       "        text-align: right;\n",
       "    }\n",
       "</style>\n",
       "<table border=\"1\" class=\"dataframe\">\n",
       "  <thead>\n",
       "    <tr style=\"text-align: right;\">\n",
       "      <th></th>\n",
       "      <th>radius1</th>\n",
       "      <th>texture1</th>\n",
       "      <th>perimeter1</th>\n",
       "      <th>area1</th>\n",
       "      <th>smoothness1</th>\n",
       "      <th>compactness1</th>\n",
       "      <th>concavity1</th>\n",
       "      <th>concave_points1</th>\n",
       "      <th>symmetry1</th>\n",
       "      <th>fractal_dimension1</th>\n",
       "      <th>...</th>\n",
       "      <th>radius3</th>\n",
       "      <th>texture3</th>\n",
       "      <th>perimeter3</th>\n",
       "      <th>area3</th>\n",
       "      <th>smoothness3</th>\n",
       "      <th>compactness3</th>\n",
       "      <th>concavity3</th>\n",
       "      <th>concave_points3</th>\n",
       "      <th>symmetry3</th>\n",
       "      <th>fractal_dimension3</th>\n",
       "    </tr>\n",
       "  </thead>\n",
       "  <tbody>\n",
       "    <tr>\n",
       "      <th>0</th>\n",
       "      <td>0.521037</td>\n",
       "      <td>0.022658</td>\n",
       "      <td>0.545989</td>\n",
       "      <td>0.363733</td>\n",
       "      <td>0.593753</td>\n",
       "      <td>0.792037</td>\n",
       "      <td>0.703140</td>\n",
       "      <td>0.731113</td>\n",
       "      <td>0.686364</td>\n",
       "      <td>0.605518</td>\n",
       "      <td>...</td>\n",
       "      <td>0.620776</td>\n",
       "      <td>0.141525</td>\n",
       "      <td>0.668310</td>\n",
       "      <td>0.450698</td>\n",
       "      <td>0.601136</td>\n",
       "      <td>0.619292</td>\n",
       "      <td>0.568610</td>\n",
       "      <td>0.912027</td>\n",
       "      <td>0.598462</td>\n",
       "      <td>0.418864</td>\n",
       "    </tr>\n",
       "    <tr>\n",
       "      <th>1</th>\n",
       "      <td>0.643144</td>\n",
       "      <td>0.272574</td>\n",
       "      <td>0.615783</td>\n",
       "      <td>0.501591</td>\n",
       "      <td>0.289880</td>\n",
       "      <td>0.181768</td>\n",
       "      <td>0.203608</td>\n",
       "      <td>0.348757</td>\n",
       "      <td>0.379798</td>\n",
       "      <td>0.141323</td>\n",
       "      <td>...</td>\n",
       "      <td>0.606901</td>\n",
       "      <td>0.303571</td>\n",
       "      <td>0.539818</td>\n",
       "      <td>0.435214</td>\n",
       "      <td>0.347553</td>\n",
       "      <td>0.154563</td>\n",
       "      <td>0.192971</td>\n",
       "      <td>0.639175</td>\n",
       "      <td>0.233590</td>\n",
       "      <td>0.222878</td>\n",
       "    </tr>\n",
       "    <tr>\n",
       "      <th>2</th>\n",
       "      <td>0.601496</td>\n",
       "      <td>0.390260</td>\n",
       "      <td>0.595743</td>\n",
       "      <td>0.449417</td>\n",
       "      <td>0.514309</td>\n",
       "      <td>0.431017</td>\n",
       "      <td>0.462512</td>\n",
       "      <td>0.635686</td>\n",
       "      <td>0.509596</td>\n",
       "      <td>0.211247</td>\n",
       "      <td>...</td>\n",
       "      <td>0.556386</td>\n",
       "      <td>0.360075</td>\n",
       "      <td>0.508442</td>\n",
       "      <td>0.374508</td>\n",
       "      <td>0.483590</td>\n",
       "      <td>0.385375</td>\n",
       "      <td>0.359744</td>\n",
       "      <td>0.835052</td>\n",
       "      <td>0.403706</td>\n",
       "      <td>0.213433</td>\n",
       "    </tr>\n",
       "    <tr>\n",
       "      <th>3</th>\n",
       "      <td>0.210090</td>\n",
       "      <td>0.360839</td>\n",
       "      <td>0.233501</td>\n",
       "      <td>0.102906</td>\n",
       "      <td>0.811321</td>\n",
       "      <td>0.811361</td>\n",
       "      <td>0.565604</td>\n",
       "      <td>0.522863</td>\n",
       "      <td>0.776263</td>\n",
       "      <td>1.000000</td>\n",
       "      <td>...</td>\n",
       "      <td>0.248310</td>\n",
       "      <td>0.385928</td>\n",
       "      <td>0.241347</td>\n",
       "      <td>0.094008</td>\n",
       "      <td>0.915472</td>\n",
       "      <td>0.814012</td>\n",
       "      <td>0.548642</td>\n",
       "      <td>0.884880</td>\n",
       "      <td>1.000000</td>\n",
       "      <td>0.773711</td>\n",
       "    </tr>\n",
       "    <tr>\n",
       "      <th>4</th>\n",
       "      <td>0.629893</td>\n",
       "      <td>0.156578</td>\n",
       "      <td>0.630986</td>\n",
       "      <td>0.489290</td>\n",
       "      <td>0.430351</td>\n",
       "      <td>0.347893</td>\n",
       "      <td>0.463918</td>\n",
       "      <td>0.518390</td>\n",
       "      <td>0.378283</td>\n",
       "      <td>0.186816</td>\n",
       "      <td>...</td>\n",
       "      <td>0.519744</td>\n",
       "      <td>0.123934</td>\n",
       "      <td>0.506948</td>\n",
       "      <td>0.341575</td>\n",
       "      <td>0.437364</td>\n",
       "      <td>0.172415</td>\n",
       "      <td>0.319489</td>\n",
       "      <td>0.558419</td>\n",
       "      <td>0.157500</td>\n",
       "      <td>0.142595</td>\n",
       "    </tr>\n",
       "  </tbody>\n",
       "</table>\n",
       "<p>5 rows × 30 columns</p>\n",
       "</div>"
      ],
      "text/plain": [
       "    radius1  texture1  perimeter1     area1  smoothness1  compactness1  \\\n",
       "0  0.521037  0.022658    0.545989  0.363733     0.593753      0.792037   \n",
       "1  0.643144  0.272574    0.615783  0.501591     0.289880      0.181768   \n",
       "2  0.601496  0.390260    0.595743  0.449417     0.514309      0.431017   \n",
       "3  0.210090  0.360839    0.233501  0.102906     0.811321      0.811361   \n",
       "4  0.629893  0.156578    0.630986  0.489290     0.430351      0.347893   \n",
       "\n",
       "   concavity1  concave_points1  symmetry1  fractal_dimension1  ...   radius3  \\\n",
       "0    0.703140         0.731113   0.686364            0.605518  ...  0.620776   \n",
       "1    0.203608         0.348757   0.379798            0.141323  ...  0.606901   \n",
       "2    0.462512         0.635686   0.509596            0.211247  ...  0.556386   \n",
       "3    0.565604         0.522863   0.776263            1.000000  ...  0.248310   \n",
       "4    0.463918         0.518390   0.378283            0.186816  ...  0.519744   \n",
       "\n",
       "   texture3  perimeter3     area3  smoothness3  compactness3  concavity3  \\\n",
       "0  0.141525    0.668310  0.450698     0.601136      0.619292    0.568610   \n",
       "1  0.303571    0.539818  0.435214     0.347553      0.154563    0.192971   \n",
       "2  0.360075    0.508442  0.374508     0.483590      0.385375    0.359744   \n",
       "3  0.385928    0.241347  0.094008     0.915472      0.814012    0.548642   \n",
       "4  0.123934    0.506948  0.341575     0.437364      0.172415    0.319489   \n",
       "\n",
       "   concave_points3  symmetry3  fractal_dimension3  \n",
       "0         0.912027   0.598462            0.418864  \n",
       "1         0.639175   0.233590            0.222878  \n",
       "2         0.835052   0.403706            0.213433  \n",
       "3         0.884880   1.000000            0.773711  \n",
       "4         0.558419   0.157500            0.142595  \n",
       "\n",
       "[5 rows x 30 columns]"
      ]
     },
     "execution_count": 73,
     "metadata": {},
     "output_type": "execute_result"
    }
   ],
   "source": [
    "X_normalised_df.head()"
   ]
  },
  {
   "cell_type": "markdown",
   "id": "63497b6a-b5cb-46f6-bfea-aead9e19e5d2",
   "metadata": {},
   "source": [
    "Now all features contain data within the same range since we have normalised the data. Next we can start to train the model."
   ]
  },
  {
   "cell_type": "markdown",
   "id": "ca627017-27e4-40bc-b4a1-5f03369f2810",
   "metadata": {},
   "source": [
    "# Training the Model\n",
    "We start by splitting the features and targets dataframes into training and testing dataframes where 20% of the data goes to testing and the 80% remaining will be used to train the model. After this, we create a knn object and fit it to our training data, however we still have to choose the number of neighbors, so we optimise this selection by plotting validation curves for a selection of these numbers and make a choice based on the results."
   ]
  },
  {
   "cell_type": "code",
   "execution_count": 74,
   "id": "5cf0062d-52ed-4be0-8ef3-40f026efb1a1",
   "metadata": {},
   "outputs": [],
   "source": [
    "# split the data\n",
    "X_train, X_test, y_train, y_test = train_test_split(X_normalised_df, y, test_size=0.20, random_state=1)"
   ]
  },
  {
   "cell_type": "code",
   "execution_count": 75,
   "id": "bcd4148c-c7c8-412e-beb3-89e4525f04c5",
   "metadata": {},
   "outputs": [
    {
     "data": {
      "image/png": "[encoded data removed]",
      "text/plain": [
       "<Figure size 1000x600 with 1 Axes>"
      ]
     },
     "metadata": {},
     "output_type": "display_data"
    }
   ],
   "source": [
    "# range of n_neighbors values\n",
    "param_range = [1, 3, 5, 7, 9, 11, 13, 15]\n",
    "\n",
    "# validation curve scores\n",
    "train_scores, test_scores = validation_curve(\n",
    "    KNeighborsClassifier(), X_train, y_train, param_name=\"n_neighbors\", param_range=param_range, cv=5\n",
    ")\n",
    "\n",
    "# validation curves\n",
    "plt.figure(figsize=(10, 6))\n",
    "plt.plot(param_range, np.mean(train_scores, axis=1), label=\"Training score\")\n",
    "plt.plot(param_range, np.mean(test_scores, axis=1), label=\"Cross-validation score\")\n",
    "plt.xlabel(\"n_neighbors\")\n",
    "plt.ylabel(\"Score\")\n",
    "plt.title(\"Validation Curve for KNN\")\n",
    "plt.legend()\n",
    "plt.grid()\n",
    "plt.show()"
   ]
  },
  {
   "cell_type": "markdown",
   "id": "ad07f088-1a43-4330-9072-32d48d796595",
   "metadata": {},
   "source": [
    "We see that the cross-validation score curve peaks at n_neighbors = 7, so this will be our selection. Now let's create the model."
   ]
  },
  {
   "cell_type": "code",
   "execution_count": 76,
   "id": "0fda526b-dae9-47cf-960f-690f76517a45",
   "metadata": {},
   "outputs": [],
   "source": [
    "# Build the KNN model\n",
    "knn = KNeighborsClassifier(n_neighbors=7)\n",
    "\n",
    "# Fit the data to the model\n",
    "knn.fit(X_train, y_train)\n",
    "\n",
    "# Create predictions\n",
    "y_prediction = knn.predict(X_test)"
   ]
  },
  {
   "cell_type": "markdown",
   "id": "60a42c0c-95bb-4336-8ddc-059310cf0b41",
   "metadata": {},
   "source": [
    "# Model Performance and Evaluation Metrics\n",
    "Now that the model has been created we can evaluate its performance on the testing data. We will look at the model accuracy, its confusion matrix and then create a classification report."
   ]
  },
  {
   "cell_type": "code",
   "execution_count": 77,
   "id": "a90a5289-7d00-4c3a-aada-200484043c99",
   "metadata": {},
   "outputs": [
    {
     "name": "stdout",
     "output_type": "stream",
     "text": [
      "Model Accuracy Score: 0.9473684210526315\n",
      "\n",
      "Model Confusion Matrix:\n",
      "\n"
     ]
    },
    {
     "data": {
      "text/plain": [
       "array([[71,  1],\n",
       "       [ 5, 37]], dtype=int64)"
      ]
     },
     "metadata": {},
     "output_type": "display_data"
    },
    {
     "name": "stdout",
     "output_type": "stream",
     "text": [
      "\n",
      "Classification Report:\n",
      "\n",
      "              precision    recall  f1-score   support\n",
      "\n",
      "           0       0.93      0.99      0.96        72\n",
      "           1       0.97      0.88      0.93        42\n",
      "\n",
      "    accuracy                           0.95       114\n",
      "   macro avg       0.95      0.93      0.94       114\n",
      "weighted avg       0.95      0.95      0.95       114\n",
      "\n"
     ]
    }
   ],
   "source": [
    "# accuracy\n",
    "accuracy = accuracy_score(y_test, y_prediction)\n",
    "\n",
    "# confusion matrix\n",
    "cm = confusion_matrix(y_test, y_prediction)\n",
    "\n",
    "# classification report\n",
    "report = classification_report(y_test, y_prediction)\n",
    "\n",
    "print(f\"Model Accuracy Score: {accuracy}\")\n",
    "\n",
    "print(\"\\nModel Confusion Matrix:\\n\")\n",
    "display(cm)\n",
    "\n",
    "print(\"\\nClassification Report:\\n\")\n",
    "print(report)"
   ]
  },
  {
   "cell_type": "markdown",
   "id": "17c2c5f4-ff10-4cbf-8e63-a1d904915b1d",
   "metadata": {},
   "source": [
    "Classification Report:\n",
    "|           | Precision | Recall | F1-Score | Support |\r\n",
    "|-----------|-----------|--------|----------|---------|\r\n",
    "| Class 0   | 0.93      | 0.99   | 0.96     | 72      |\r\n",
    "| Class 1   | 0.97      | 0.88   | 0.93     | 42      |\r\n",
    "| Accuracy  |           |        | 0.95     | 114     |\r\n",
    "| Macro Avg | 0.95      | 0.93   | 0.94     | 114     |\r\n",
    "| Weighted Avg | 0.95   | 0.95   | 0.95     | 114     |\r\n",
    "     |"
   ]
  },
  {
   "cell_type": "markdown",
   "id": "8d145ac7-78a2-495d-8c45-3f94cc518879",
   "metadata": {},
   "source": [
    "Our model has an accuracy score of 94.7% which is remarkable. Looking at the classification report, we should note that class 1 corresponds to malignant cases and class 0 corresponds to benign cases. From the Precision column we see that 93% of the samples predicted as benign were actually benign and 97% of the samples predicted as malignant were actually malignant.\n",
    "\n",
    "Furthermore, from the recall column we see that 99% of actual benign samples were correctly identified, but only 88% of the malignant samples were correctly identified. This is still impressive. Moreover, we see that both classes have a balanced precision and recall measure by looking at their F1 scores. Lastly, the support columns tells us that 72 samples were benign and 42 samples were malignant.\n",
    "\n",
    "In summary, our model predicted the correct class for 95% of the testing samples which indicates a strong performance in distinguishing between \"Benign\" and \"Malignant\" breast cancer cases."
   ]
  },
  {
   "cell_type": "markdown",
   "id": "6e77fcfa-85bd-43dd-9a06-2e9ed81bdf36",
   "metadata": {},
   "source": [
    "# Data Visualisation\n"
   ]
  },
  {
   "cell_type": "markdown",
   "id": "e3b026a2-3873-46d5-b561-d747fa9c24eb",
   "metadata": {},
   "source": [
    "Since we have many features, we can use principle component analysis to reduce the dimentionality of the data."
   ]
  },
  {
   "cell_type": "code",
   "execution_count": 78,
   "id": "d1ee9518-0850-4eaf-b15c-cc506e6ba48b",
   "metadata": {
    "scrolled": true
   },
   "outputs": [
    {
     "data": {
      "image/png": "[encoded data removed]",
      "text/plain": [
       "<Figure size 1000x600 with 2 Axes>"
      ]
     },
     "metadata": {},
     "output_type": "display_data"
    }
   ],
   "source": [
    "def plot_decision_boundaries(X, y, model):\n",
    "    pca = PCA(n_components=2)\n",
    "    X_pca = pca.fit_transform(X)\n",
    "    model.fit(X_pca, y)\n",
    "    x_min, x_max = X_pca[:, 0].min() - 1, X_pca[:, 0].max() + 1\n",
    "    y_min, y_max = X_pca[:, 1].min() - 1, X_pca[:, 1].max() + 1\n",
    "    xx, yy = np.meshgrid(np.arange(x_min, x_max, 0.1), np.arange(y_min, y_max, 0.1))\n",
    "    Z = model.predict(np.c_[xx.ravel(), yy.ravel()])\n",
    "    Z = Z.reshape(xx.shape)\n",
    "\n",
    "    plt.figure(figsize=(10, 6))\n",
    "    plt.contourf(xx, yy, Z, alpha=0.4)\n",
    "    scatter = plt.scatter(X_pca[:, 0], X_pca[:, 1], c=y, s=20, edgecolor='k')\n",
    "    plt.xlabel('PCA axis 1')\n",
    "    plt.ylabel('PCA axis 2')\n",
    "    plt.title('KNN Decision Boundaries with PCA')\n",
    "    plt.colorbar()\n",
    "    legend1 = plt.legend(*scatter.legend_elements(), title=\"Classes\")\n",
    "    plt.gca().add_artist(legend1)\n",
    "    plt.show()\n",
    "\n",
    "plot_decision_boundaries(X_test, y_prediction, knn)"
   ]
  },
  {
   "cell_type": "markdown",
   "id": "8621a58a-5d56-43b5-a4d5-716ceb4a28d8",
   "metadata": {},
   "source": [
    "The results above clearly show the decision bounary of our model and there is a clear distinction between \"Class 0 - Benign\" and \"Class 1 - Malignant\" observations. This model is reasonably accurate and can be saved for future use."
   ]
  }
 ],
 "metadata": {
  "kernelspec": {
   "display_name": "Python 3 (ipykernel)",
   "language": "python",
   "name": "python3"
  },
  "language_info": {
   "codemirror_mode": {
    "name": "ipython",
    "version": 3
   },
   "file_extension": ".py",
   "mimetype": "text/x-python",
   "name": "python",
   "nbconvert_exporter": "python",
   "pygments_lexer": "ipython3",
   "version": "3.12.2"
  }
 },
 "nbformat": 4,
 "nbformat_minor": 5
}
